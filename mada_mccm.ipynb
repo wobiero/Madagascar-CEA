{
  "nbformat": 4,
  "nbformat_minor": 0,
  "metadata": {
    "colab": {
      "provenance": [],
      "authorship_tag": "ABX9TyPyZPdqRhBH4lW0/wG5JcCE",
      "include_colab_link": true
    },
    "kernelspec": {
      "name": "python3",
      "display_name": "Python 3"
    },
    "language_info": {
      "name": "python"
    }
  },
  "cells": [
    {
      "cell_type": "markdown",
      "metadata": {
        "id": "view-in-github",
        "colab_type": "text"
      },
      "source": [
        "<a href=\"https://colab.research.google.com/github/wobiero/Madagascar-CEA/blob/main/mada_mccm.ipynb\" target=\"_parent\"><img src=\"https://colab.research.google.com/assets/colab-badge.svg\" alt=\"Open In Colab\"/></a>"
      ]
    },
    {
      "cell_type": "code",
      "execution_count": null,
      "metadata": {
        "id": "OBVD-fIuazfg"
      },
      "outputs": [],
      "source": []
    },
    {
      "cell_type": "code",
      "source": [],
      "metadata": {
        "id": "AI3drC2hbOnQ"
      },
      "execution_count": null,
      "outputs": []
    },
    {
      "cell_type": "markdown",
      "source": [
        "#Economic Analysis CHV Madagascar"
      ],
      "metadata": {
        "id": "FtsVIjQfbcEX"
      }
    },
    {
      "cell_type": "markdown",
      "source": [
        "**Key items:**\n",
        "- Estimate costs for treating case of uncomplicated malaria by CHVs\n",
        "- Estimate budget impact of the expanded CHV program\n",
        "- Estimate economic impact of expanded CHV program\n",
        "- Breakeven analysis for potential CHV compensation"
      ],
      "metadata": {
        "id": "jXQkKrNDbmTg"
      }
    },
    {
      "cell_type": "markdown",
      "source": [
        "**Substitution of point of care effects**\n",
        "- Increased workload for non-compensated CHVs - increased churn\n",
        "- Early treatment for uncomplicated malaria - reduced progression to severe disease and mortality\n",
        "- Reduced workload at health facilities - both for severe and uncomplicated malaria\n",
        "- Reduced workload and potential increase in quality of care for those who access clinics/hospitals. Paradoxical increase in attendance for patients living close to health facilities.\n"
      ],
      "metadata": {
        "id": "gvyhQfcEcRFk"
      }
    },
    {
      "cell_type": "markdown",
      "source": [
        "**Issues in estimating substitution effects of the new program**\n",
        "- Length of average malaria episode -- Assume this is a function of distance from facility and sub-optimal care\n",
        "- Sub-optimal care represents either misdiagnosis or improper dosing\n",
        "- Estimation of loss of income at home for informal care\n",
        "- Estimation of transport costs\n",
        "- Estimation of alternative care before coming to facilities\n",
        "- Estimated value of future earnings from premature deaths avoided\n",
        "- Family time costs measured using an opportunity cost approach\n",
        "- Proportion of facility cases as malaria\n",
        "- Proportion of facility cases that will shift to CHV care as a function of distance and acceptability of CHVs\n",
        "- Proportion of home cases that will shift to CHV care as a function of distance\n",
        "- Cost of care from informal sector or private clinics\n",
        "- Potential change in severe malaria cases\n",
        "- Malaria mortality changes\n",
        "- Reduction in malaria probability due to expanded treatment\n",
        "- RDT positivity rate for CHVs versus RDT positivity rate for formal healthcare workers (for estimating differential usage) -- get values for Mada\n",
        "- Rate treated with RDT for clinical diagnosis versus rate treated following positive RDT\n",
        "- Total time spent at facility\n",
        "- Time motion studies for IPTI  12.4 (1.6 - 28.9min): https://pubmed.ncbi.nlm.nih.gov/18823639/\n",
        "- Are there differential complication rates between the two study arms\n"
      ],
      "metadata": {
        "id": "7nfq2TvTeDoZ"
      }
    },
    {
      "cell_type": "code",
      "source": [
        "# Import libraries for the analyses\n",
        "import pandas as pd\n",
        "import numpy as np\n",
        "import matplotlib.pyplot as plt\n",
        "from matplotlib.patches import Ellipse\n",
        "import matplotlib.transforms as transforms\n",
        "from matplotlib.ticker import StrMethodFormatter\n",
        "import scipy.stats as stats\n",
        "from scipy.stats import gamma, invgamma, norm, skellam\n",
        "from dataclasses import dataclass"
      ],
      "metadata": {
        "id": "VrAW0T7JcL70"
      },
      "execution_count": null,
      "outputs": []
    },
    {
      "cell_type": "markdown",
      "source": [
        "<u>**Cost Data** </u>\n",
        "\n",
        "- Cost data cannot be negative.\n",
        "- Therefore normal distribution is inappropriate (-$\\infty$ to +$\\infty$).\n",
        "- Beta is also inappropriate since it has a maximum value of 1.\n",
        "- Healthcare costs typically cluster around the mode with a few extreme values (long-tailed).\n",
        "- Ideal distributions - LogNormal and Gamma. Will use Gamma here."
      ],
      "metadata": {
        "id": "QMS_exJCJbvg"
      }
    },
    {
      "cell_type": "code",
      "source": [
        "# We will use gamma distributions primarily for costs\n",
        "# We will make adjustments to calculate alphas and betas from mean and sd\n",
        "# Make a function to make this non-repetitive\n",
        "\n",
        "def gamma_stats(mean, std_dev, size=1000):\n",
        "    \"\"\"\n",
        "    Generate mean and 95% confidence interval for a gamma distribution based on given mean and standard deviation parameters.\n",
        "\n",
        "    Parameters:\n",
        "        mean (float): Mean of the distribution.\n",
        "        std_dev (float): Standard deviation of the distribution.\n",
        "        size (int): Number of samples to generate (default is 1000).\n",
        "\n",
        "    Returns:\n",
        "        tuple: Tuple containing mean and 95% confidence interval.\n",
        "    \"\"\"\n",
        "    # Calculate shape (alpha) and scale (beta) parameters\n",
        "    alpha = (mean / std_dev) ** 2\n",
        "    beta = (std_dev ** 2) / mean\n",
        "\n",
        "    # Generate gamma distribution\n",
        "    simulated_data = np.random.gamma(alpha, beta, size=size)\n",
        "\n",
        "    # Calculate mean and 95% confidence interval\n",
        "    mean_value = np.mean(simulated_data)\n",
        "    confidence_interval = np.percentile(simulated_data, [2.5, 97.5])\n",
        "\n",
        "    return mean_value, confidence_interval, simulated_data\n"
      ],
      "metadata": {
        "id": "DrI5fMwEIumX"
      },
      "execution_count": null,
      "outputs": []
    },
    {
      "cell_type": "code",
      "source": [
        "#Key constants for the analyses\n",
        "exchange_rate = 3905.54 # To USD\n",
        "discount_rate = .03\n",
        "wastage_rate = 1.05 # Based on data from the field (5%)\n",
        "# The wastage rate may need to be adjusted to reflect expiry"
      ],
      "metadata": {
        "id": "52TaksBphhYi"
      },
      "execution_count": null,
      "outputs": []
    },
    {
      "cell_type": "code",
      "source": [
        "# RDT Consumable Costs\n",
        "# Discuss with team if face masks and alcohol handrub are used\n",
        "# Are face masks reused\n",
        "rdt = 1.05 * (1.1)# Per kit - PSM Assumes 10% wastage for RDTs\n",
        "gloves = 0.119 * 2 * wastage_rate # Breakdown rate of 1% given in spreadsheet\n",
        "lancet = 0.03995 # 200 @ $7.99\n",
        "alcohol_swabs = 0.055 * 2 * wastage_rate # Assume two per patient $5.50 for 200\n",
        "safety_box = 0.0384 * 2 # We assume that a safety box is used for 50 patients. Hard to carry around.\n",
        "hand_rub = 0.0262 # $2.62 for a 500 ml bottle. Assume two pump dispenser push or 2.4ml. Assume two uses per client\n",
        "face_mask = 0.06 * wastage_rate #Assume current patterns"
      ],
      "metadata": {
        "id": "FgQnwtS_gIRE"
      },
      "execution_count": null,
      "outputs": []
    },
    {
      "cell_type": "code",
      "source": [
        "total_rdt = rdt + gloves + lancet + alcohol_swabs + safety_box + hand_rub + face_mask\n",
        "print(f\"\"\"The estimated total costs for RDT consumables is ${total_rdt:,.2f}.\n",
        "These costs do not include waste disposal costs of ~ 15%.\n",
        "We assume transport costs are already included in the costs.\"\"\")"
      ],
      "metadata": {
        "colab": {
          "base_uri": "https://localhost:8080/"
        },
        "id": "x5pQttHojRl8",
        "outputId": "9f1653e7-55ad-4ba5-f740-659941fcccff"
      },
      "execution_count": null,
      "outputs": [
        {
          "output_type": "stream",
          "name": "stdout",
          "text": [
            "The estimated total costs for RDT consumables is $1.73. \n",
            "These costs do not include waste disposal costs of ~ 15%. \n",
            "We assume transport costs are already included in the costs.\n"
          ]
        }
      ]
    },
    {
      "cell_type": "markdown",
      "source": [
        "Handrub use assumption:\n",
        "- Less and less influence of volume on hand coverage and bactericidal efficacy in handwashing. [Kampf et al](https://www.ncbi.nlm.nih.gov/pmc/articles/PMC3851816/#:~:text=Some%20manufacturers%20recommend%20using%201.1,current%20efficacy%20standards%20is%20unknown)"
      ],
      "metadata": {
        "id": "WTPyOYiav3DM"
      }
    },
    {
      "cell_type": "code",
      "source": [
        "number_of_chws = 502 # From study\n",
        "consultations = 462_215 # From Study\n",
        "# Costs are in Ar. Will adjust below to USD\n",
        "trainer_per_diem = 5_690_000\n",
        "trainer_salary = 7_884_356 # Government or donors pay for the trainers wages, which should be included .\n",
        "# These can be omitted if training is done by consultants and captured as such\n",
        "chw_per_diem = 50_200_000\n",
        "facility_incharge_per_diem = 1_500_000\n",
        "refreshments = 333_000\n",
        "hall_rental = 950_000\n",
        "transport = 3_556_681.8\n",
        "printing = 805_000\n",
        "\n",
        "# Calculate total initial training cost\n",
        "total_initial_training = (trainer_per_diem + chw_per_diem +\n",
        "                          facility_incharge_per_diem +\n",
        "                          refreshments + hall_rental + transport +\n",
        "                          printing)/exchange_rate\n",
        "\n",
        "# Assume standard deviation is 20% of the values\n",
        "std_deviation = 0.2 * total_initial_training\n",
        "\n",
        "# Number of Monte Carlo simulations\n",
        "n_simulations = 1000\n",
        "\n",
        "# Run gamma simulation and return values\n",
        "g_values = gamma_stats(total_initial_training, std_deviation)\n",
        "mean_init = g_values[0]\n",
        "print(f\"Mean initial training costs: ${g_values[0]:,.2f}\")\n",
        "print(f\"95% Confidence Interval: $[{g_values[1][0]:,.2f}, {g_values[1][1]:,.2f}]\")\n",
        "print(\"The CI are for national projection purposes. Will use actual mean for the analysis.\")\n"
      ],
      "metadata": {
        "colab": {
          "base_uri": "https://localhost:8080/"
        },
        "id": "3y5mxXMAnmR6",
        "outputId": "48fb87e3-ddd6-4de8-e015-a0d1fc00f381"
      },
      "execution_count": null,
      "outputs": [
        {
          "output_type": "stream",
          "name": "stdout",
          "text": [
            "Mean initial training costs: $16,064.79\n",
            "95% Confidence Interval: $[10,481.09, 22,985.84]\n",
            "The CI are for national projection purposes. Will use actual mean for the analysis.\n"
          ]
        }
      ]
    },
    {
      "cell_type": "code",
      "source": [
        "plt.hist(g_values[2], bins=30, alpha=.7, color=\"b\", ec=\"k\", label=\"Simulated\")\n",
        "plt.axvline(x=np.mean(g_values[2]), color=\"r\", linestyle=\"--\", lw=1, label=\"Mean\")\n",
        "plt.axvline(x=g_values[1][0], color=\"g\", linestyle=\"--\", lw=1, label=\"95% CI\")\n",
        "plt.axvline(x=g_values[1][1], color=\"g\", linestyle=\"--\", lw=1)\n",
        "plt.ylabel(\"Density\")\n",
        "plt.xlabel(\"Initial training costs ($)\")\n",
        "plt.gca().xaxis.set_major_formatter(StrMethodFormatter('{x:,.0f}'))\n",
        "plt.legend();"
      ],
      "metadata": {
        "colab": {
          "base_uri": "https://localhost:8080/",
          "height": 449
        },
        "id": "f9ujwdx5jbku",
        "outputId": "69e2475f-9752-4dd5-bc58-9ba6627c707f"
      },
      "execution_count": null,
      "outputs": [
        {
          "output_type": "display_data",
          "data": {
            "text/plain": [
              "<Figure size 640x480 with 1 Axes>"
            ],
            "image/png": "[encoded data removed]"
          },
          "metadata": {}
        }
      ]
    },
    {
      "cell_type": "markdown",
      "source": [
        "**Refresher training**\n",
        "- These were much higher than the initial training costs in the spreadsheet\n",
        "- Might be an error\n",
        "- Will peg them at 80% initial training costs but can adjust this"
      ],
      "metadata": {
        "id": "nSVJjDjLqeA4"
      }
    },
    {
      "cell_type": "code",
      "source": [
        "per_diem_chv = 50_200_000\n",
        "per_diem_trainer = 6_144_000\n",
        "facility_incharge_per_diem = 1_500_000\n",
        "refreshments = 3_625_000\n",
        "hall_hire = 2_160_000\n",
        "transport = 5_497_800\n",
        "printing = 805_000\n",
        "ref_adjustment = .8\n",
        "tot_refresher = (per_diem_chv + per_diem_trainer +\n",
        "                 facility_incharge_per_diem + refreshments +\n",
        "                 hall_rental + printing + transport)/exchange_rate\n",
        "refresher_sd = .2 * tot_refresher\n",
        "ref_values = gamma_stats(tot_refresher, refresher_sd)\n",
        "mean_ref = ref_values[0]\n",
        "print(f\"Mean refresher training costs: ${mean_ref:,.2f}\")\n",
        "print(f\"95% Confidence Interval: $[{ref_values[1][0]:,.2f}, {ref_values[1][1]:,.2f}]\")\n",
        "print(\"The CI are for national projection purposes. Will use actual mean for the analysis.\")\n",
        "\n",
        "\n",
        "if mean_ref > g_values[0]:\n",
        "  mean_ref *= ref_adjustment\n",
        "  print(f\"We will use a mean refresher value of ${mean_ref:,.2f}\")\n"
      ],
      "metadata": {
        "colab": {
          "base_uri": "https://localhost:8080/"
        },
        "id": "R3tlGp73qHVS",
        "outputId": "41f58e10-cfd7-4f65-8760-9aaf737ddfcb"
      },
      "execution_count": null,
      "outputs": [
        {
          "output_type": "stream",
          "name": "stdout",
          "text": [
            "Mean refresher training costs: $17,548.43\n",
            "95% Confidence Interval: $[10,990.55, 24,843.35]\n",
            "The CI are for national projection purposes. Will use actual mean for the analysis.\n",
            "We will use a mean refresher value of $14,038.74\n"
          ]
        }
      ]
    },
    {
      "cell_type": "markdown",
      "source": [
        "**Community sensitization costs**\n",
        "- These are one-off costs\n",
        "- Initial costs based on 15 health facilities\n",
        "- Will be scaled to reflect 30 facilities"
      ],
      "metadata": {
        "id": "mbfqwjW_xJNP"
      }
    },
    {
      "cell_type": "code",
      "source": [
        "# Community sensitization costs for ICCM\n",
        "# Assumes 4 days of sensitization for 15 facilities\n",
        "sensitization = 4_873_600 * 2/ exchange_rate\n",
        "print(f\"Community sensitization costs were ${sensitization:,.2f}\")\n",
        "sensitization_per_chw = sensitization/number_of_chws\n",
        "print(f\"Average sensitization costs per CHW were ${sensitization_per_chw:,.2f}\")\n"
      ],
      "metadata": {
        "colab": {
          "base_uri": "https://localhost:8080/"
        },
        "id": "9lt7xIbnxH2B",
        "outputId": "2a9482db-9526-46ca-cc19-f75257b83c7a"
      },
      "execution_count": null,
      "outputs": [
        {
          "output_type": "stream",
          "name": "stdout",
          "text": [
            "Community sensitization costs were $2,495.74\n",
            "Average sensitization costs per CHW were $4.97\n"
          ]
        }
      ]
    },
    {
      "cell_type": "code",
      "source": [
        "# Planning meetings (one off costs)\n",
        "strategic_planning_national = 12_517_420 # (4 days for 40 participants)\n",
        "district_share_national = strategic_planning_national/40\n",
        "strategic_planning_district = 17_064_800 + district_share_national # (5 days for 30 participants\n",
        "strategic_planning_chv = strategic_planning_district/number_of_chws\n",
        "print(f\"District planning costs: ${strategic_planning_district/exchange_rate:,.2f}\")\n",
        "print(f\"CHV share of strategic planning costs per CHV ${strategic_planning_chv/exchange_rate:,.2f}\")\n",
        "print(\"=========================================================================\")\n",
        "print(\"The CHV share will be split across all patients seen\")\n",
        "print(\"We will not annualize planning costs.\")"
      ],
      "metadata": {
        "colab": {
          "base_uri": "https://localhost:8080/"
        },
        "id": "ftJz3FlXydT1",
        "outputId": "b2193d77-9aa5-459a-fb2e-260429469287"
      },
      "execution_count": null,
      "outputs": [
        {
          "output_type": "stream",
          "name": "stdout",
          "text": [
            "District planning costs: $4,449.51\n",
            "CHV share of strategic planning costs per CHV $8.86\n",
            "=========================================================================\n",
            "The CHV share will be split across all patients seen\n",
            "We will not annualize planning costs.\n"
          ]
        }
      ]
    },
    {
      "cell_type": "code",
      "source": [
        "# Estimate population size with malaria\n",
        "# Estimate population reached with treatment\n",
        "# Estimate population effectively treated\n",
        "# Estimate differential number of deaths\n",
        "# Estimate DALY's averted\n",
        "# Average visit time [simulate around a range of values]\n",
        "# Average number of daily visits [range and standard deviation]\n",
        "# Assume that deaths occur only in under 5\n",
        "# Life expectancy at birth - 65.3 years\n",
        "#Inputs\n",
        "median_age = 20.3\n",
        "inequality_quintile = .057\n",
        "lower_ppp_ce_threshold = 28 # International dollars\n",
        "upper_ppp_ce_threshold = 717 # International dollars\n",
        "hourly_wage_ppp = .75\n",
        "hourly_wage_nominal = .19\n",
        "gdp_ppp = 1601 #International dollars\n",
        "gdp_per_capita = 516.59\n",
        "work_week = 40 # 40 hours\n",
        "inflation_official = 6.0 # Inflation rate percentage\n",
        "cases_per_thousand = 32.04 # Malaria Atlas Project (Andres to confirm)\n",
        "infection_prevalence = 2.75 # Per 100 children Malaria Atlas Project\n",
        "mortality_rate = 9.62 # Per 100,000 Malaria Atlas Project"
      ],
      "metadata": {
        "id": "ICpeU_JgJRrm"
      },
      "execution_count": null,
      "outputs": []
    },
    {
      "cell_type": "code",
      "source": [
        "# Years lived with disability\n",
        "# Number of incident cases\n",
        "# Average duration of a case\n",
        "# Disability weight\n",
        "# Wastage is a parameter that can be adjusted to include stockouts.\n",
        "# Change service utilization to reflect what the study found. For example, RDT can increase to 100% if home-based services given.\n",
        "# Alternatively use mean values from the study\n",
        "adherence = .808 # Adjust accordingly\n",
        "wastage = .15 # Adjust accordingly\n",
        "utilization = 1 # Can adjust service utilization instead and maintain efficacy levels as constant (unless multiplicative)\n",
        "mal_in_fever = .3481 # proportion of malaria in cases with fever [Consult and change accordingly]\n",
        "efficacy_no_prog = .748\n",
        "efficacy_prog = .9195\n",
        "proportion_severe = .082 # Proportion of malaria cases that are severe\n",
        "cfr = 1.371e-02\n",
        "protection = (100 - wastage) * utilization * adherence\n",
        "cases_averted_no_prog = protection * mal_in_fever * efficacy_no_prog * proportion_severe\n",
        "cases_averted_prog = protection * mal_in_fever * efficacy_prog * proportion_severe\n",
        "deaths_averted_no_prog = protection * cfr * efficacy_no_prog * mal_in_fever\n",
        "deaths_averted_prog = protection * cfr * efficacy_prog * mal_in_fever"
      ],
      "metadata": {
        "id": "JlrWqIJ0Jhvi"
      },
      "execution_count": null,
      "outputs": []
    },
    {
      "cell_type": "code",
      "source": [
        "# Estimate discounted future life years saved for each death averted\n",
        "life_expectancy = 65.3 # Life expectancy at birth\n",
        "avg_age_death = 2.5 # assume average age of death\n",
        "discounted_future_years = np.sum([1/(1 + discount_rate)**t for t in list(range(int(life_expectancy - avg_age_death)))])\n",
        "print(f\"The average discounted years lived per death averted is: {discounted_future_years:,.2f} years\")\n",
        "print(\"This value will be used in estimating economic benefits of each death averted\")"
      ],
      "metadata": {
        "colab": {
          "base_uri": "https://localhost:8080/"
        },
        "id": "e9HbNbQMJ_H-",
        "outputId": "940a8081-c8de-44e0-f4bf-8d7d9d605405"
      },
      "execution_count": null,
      "outputs": [
        {
          "output_type": "stream",
          "name": "stdout",
          "text": [
            "The average discounted years lived per death averted is: 28.84 years\n",
            "This value will be used in estimating economic benefits of each death averted\n"
          ]
        }
      ]
    },
    {
      "cell_type": "code",
      "source": [],
      "metadata": {
        "colab": {
          "base_uri": "https://localhost:8080/"
        },
        "id": "yfEUGTVxTyQh",
        "outputId": "3bdfdcdf-8736-458c-a31d-84bff23de468"
      },
      "execution_count": null,
      "outputs": [
        {
          "output_type": "stream",
          "name": "stdout",
          "text": [
            "498329.1508773225\n",
            "3983.5949437772315\n"
          ]
        }
      ]
    },
    {
      "cell_type": "markdown",
      "source": [
        "**Value of statistical life**\n",
        "This will be used to estimate the mortality prevention benefits."
      ],
      "metadata": {
        "id": "wqxyFMAANDOs"
      }
    },
    {
      "cell_type": "code",
      "source": [],
      "metadata": {
        "colab": {
          "base_uri": "https://localhost:8080/"
        },
        "id": "Xy584Ow0KXFH",
        "outputId": "c189b255-273e-4ca9-9b61-547fcf1de51f"
      },
      "execution_count": null,
      "outputs": [
        {
          "output_type": "stream",
          "name": "stdout",
          "text": [
            "Net Present Value of a life lost in Madagascar: $12016.22\n"
          ]
        }
      ]
    },
    {
      "cell_type": "markdown",
      "source": [
        "**Estimation of economic value of donated time**\n",
        "- The average consultation time is a function of whether RDT tests are offered or not\n",
        "- Unlike in health facilities where activities are done in parallel, for CHVs we assume that activities are done serially.\n",
        "- That is, a CHV's consultation time per patient will be much longer as they have to wait at the home until an RDT is run.\n",
        "- The CHVs may offer other services like health promotion at this time, but these will not be valued.\n",
        "- As such, CHV time should be seen as an over-estimate.\n",
        "- We will conduct sensitivity analyses around this value."
      ],
      "metadata": {
        "id": "pleU3fmiDs3Y"
      }
    },
    {
      "cell_type": "code",
      "source": [
        "def chv_clinical_time(consult_time, consultations_per_year, rdt_adjustment, hourly_wage_nominal):\n",
        "  tot_time = (consult_time/60) * consultations_per_year * rdt_adjustment\n",
        "  avg_cost = tot_time * hourly_wage_nominal\n",
        "  return tot_time, avg_cost\n",
        "\n",
        "consult_time = 45.7 # This includes clerking, running RDT, dispensing, health promotion\n",
        "consultations_per_year = 464_440/number_of_chws\n",
        "rdt_adjustment = .8 # Proportion of all reviews that get RDT\n",
        "clinical_time, clin_time_cost = chv_clinical_time(consult_time,\n",
        "                                                  consultations_per_year,\n",
        "                                                  rdt_adjustment, hourly_wage_nominal)\n",
        "donated_time = gamma_stats(clin_time_cost, clin_time_cost * .2)\n",
        "average_cost = donated_time[0]\n",
        "lower_bound = donated_time[1][0]\n",
        "upper_bound = donated_time[1][1]\n",
        "print(f\"Estimated Average Economic Cost of CHV time per year: ${average_cost:,.2f}\")\n",
        "print(f\"95% CI: $[{lower_bound:,.2f}, {upper_bound:,.2f}]\")\n",
        "print(\"=========================================================================\")\n",
        "print(\"These costs do not cover travel to home, facility, or reporting time.\")\n",
        "print(\"=========================================================================\")"
      ],
      "metadata": {
        "colab": {
          "base_uri": "https://localhost:8080/"
        },
        "id": "kP7LH9NVhfMn",
        "outputId": "932ca177-d809-4e76-cfa4-5a0ec1bccc92"
      },
      "execution_count": null,
      "outputs": [
        {
          "output_type": "stream",
          "name": "stdout",
          "text": [
            "Estimated Average Economic Cost of CHV time per year: $106.68\n",
            "95% CI: $[69.48, 151.95]\n",
            "=========================================================================\n",
            "These costs do not cover travel to home, facility, or reporting time.\n",
            "=========================================================================\n"
          ]
        }
      ]
    },
    {
      "cell_type": "markdown",
      "source": [
        "**CHV Non-Clinical Time Costs**\n",
        "- Assume 15-minute walk one way to home\n",
        "- Assume 1 visit monthly to health facility for meetings, supplies, reports\n",
        "- Monthly meeting plus travel pegged at 6 hours\n",
        "- Assume 1 hour per week on reports, notes, drug reconciliations\n",
        "- The 30-minute return trip assumption is conservative.\n",
        "- Andres to confirm plausibility of these assumptions\n",
        "- Senior author: [Improving geographical accessibility modeling for operational use by local health actors](https://link.springer.com/article/10.1186/s12942-020-00220-6)\n",
        "- Senior author: [Geographic barriers to care persist at the community healthcare level: Evidence from rural Madagascar.](https://www.ncbi.nlm.nih.gov/pmc/articles/PMC10022327/)\n"
      ],
      "metadata": {
        "id": "Ac3IwMoLocUL"
      }
    },
    {
      "cell_type": "code",
      "source": [
        "travel_pt_visit = 464_440/number_of_chws * 30/60\n",
        "facility_travel = 6 * 12\n",
        "report_time = 4 * 12\n",
        "tot_extra_time = travel_pt_visit + facility_travel + report_time\n",
        "non_clin_time_cost = hourly_wage_nominal * tot_extra_time\n",
        "print(\"================================================================\")\n",
        "print(f\"Estimated non-clinical time per year: {tot_extra_time:,.1f} hours\")\n",
        "\n",
        "assoc_time_cost = gamma_stats(non_clin_time_cost, non_clin_time_cost * .2)\n",
        "lower_bound = assoc_time_cost[1][0]\n",
        "upper_bound = assoc_time_cost[1][1]\n",
        "print(\"================================================================\")\n",
        "print(f\"Non-clinical time costs per year: ${non_clin_time_cost:,.2f}\")\n",
        "print(f\"95% CI: $[{lower_bound:,.2f}, {upper_bound:,.2f}]\")\n",
        "print(\"================================================================\")"
      ],
      "metadata": {
        "colab": {
          "base_uri": "https://localhost:8080/"
        },
        "id": "30bBTa15F_r_",
        "outputId": "b499bf89-2510-4aa2-c68a-0d4fd4dbfef0"
      },
      "execution_count": null,
      "outputs": [
        {
          "output_type": "stream",
          "name": "stdout",
          "text": [
            "================================================================\n",
            "Estimated non-clinical time per year: 582.6 hours\n",
            "================================================================\n",
            "Non-clinical time costs per year: $110.69\n",
            "95% CI: $[73.93, 156.48]\n",
            "================================================================\n"
          ]
        }
      ]
    },
    {
      "cell_type": "markdown",
      "source": [
        "**Note:**\n",
        "- Non-clinical time in the analysis above is higher than actual clinical time\n",
        "- Based on time alone, economic costs per CHV are : $$217.37 per annum\n",
        "- This was estimated using nominal GDP values\n",
        "- If we use GDP purchasing power parity, this rises to $858.04 per annum\n",
        "- Note the assumptions around consult time and travel time"
      ],
      "metadata": {
        "id": "zmiqE0UHqkuR"
      }
    },
    {
      "cell_type": "code",
      "source": [
        "# Mortality benefits\n",
        "# Verify with team if there are any mortality benefits\n",
        "def calculate_npv(mean_age_of_death, life_expectancy, discount_rate, gdp_per_capita):\n",
        "    years_of_life_lost = life_expectancy - mean_age_of_death\n",
        "    npv = 0\n",
        "\n",
        "    for year in range(1, years_of_life_lost + 1):\n",
        "        discounted_value = gdp_ppp / ((1 + discount_rate) ** year)\n",
        "        npv += discounted_value\n",
        "\n",
        "    return npv\n",
        "\n",
        "# Given parameters\n",
        "median_age_of_death = int(19.3)\n",
        "life_expectancy = int(67.8)\n",
        "discount_rate = 0.03  # 3%\n",
        "mean_age_work = 15\n",
        "# Calculate NPV -- this assumes that the mean age of economic productivity is 15\n",
        "# Some economists use 12 years\n",
        "\n",
        "result_1 = calculate_npv(median_age_of_death, life_expectancy, discount_rate, gdp_ppp)\n",
        "result_2 = calculate_npv(median_age_of_death, (mean_age_work - median_age_of_death), discount_rate, gdp_ppp)\n",
        "print(\"================================================================\")\n",
        "print(f\"Net Present Value of a life lost in Madagascar: ${result_1 - result_2:.2f}\")\n",
        "print(\"================================================================\")"
      ],
      "metadata": {
        "colab": {
          "base_uri": "https://localhost:8080/"
        },
        "id": "TFPReWEA5bv0",
        "outputId": "07d96e5a-0053-4923-ad56-e1da88326217"
      },
      "execution_count": null,
      "outputs": [
        {
          "output_type": "stream",
          "name": "stdout",
          "text": [
            "================================================================\n",
            "Net Present Value of a life lost in Madagascar: $40452.00\n",
            "================================================================\n"
          ]
        }
      ]
    },
    {
      "cell_type": "code",
      "source": [],
      "metadata": {
        "id": "-BM-cmt6w04A"
      },
      "execution_count": null,
      "outputs": []
    },
    {
      "cell_type": "markdown",
      "source": [
        "**Estimating mortality averted benefits using VSL**\n",
        "- Approach used outlined in this paper\n",
        "- Income elasticities and global values of a statistical life. [Viscusi & Masterman 2017](https://www.cambridge.org/core/journals/journal-of-benefit-cost-analysis/article/income-elasticities-and-global-values-of-a-statistical-life/5AE299883F668DCC265C41A377E1E063)\n",
        "\n",
        "Formula:\n",
        "\n",
        "$$ VSL_{M} = VSL_{US} * \\left(\\frac{GDP.PPP_{M}}{GDP.PPP_{US}}\\right)^{\\epsilon} $$\n",
        "\n",
        "Where: $\\epsilon$ = income elasticity\n",
        "\n",
        "While the paper above uses an eta of 1.0, we follow [Robinson et al. 2019](https://www.cambridge.org/core/journals/journal-of-benefit-cost-analysis/article/valuing-mortality-risk-reductions-in-global-benefitcost-analysis/71252D2A48B3F2402DF209550C1945FA) and use an $\\epsilon$ of 1.5"
      ],
      "metadata": {
        "id": "k_mtgJO46IwQ"
      }
    },
    {
      "cell_type": "code",
      "source": [
        "# Use US values as baseline\n",
        "us_gdp_pc = 76_329.58 # World Bank 2022\n",
        "gdp_ratio = gdp_per_capita/us_gdp_pc\n",
        "eta = 1.5 # Income elasticity Madagascar\n",
        "life_expectancy = 67.8\n",
        "median_age = 19.3\n",
        "rem_life = int(life_expectancy - median_age)\n",
        "us_vsl = 11_377_977 # USDA values 2022\n",
        "mada_vsl = us_vsl * (gdp_ppp/us_gdp_pc) ** eta\n",
        "\n",
        "# Robinson et al recommend using 20 times GNI if VSL lower than GNI per capita\n",
        "if mada_vsl > gdp_ppp * 20:\n",
        "  pass\n",
        "else:\n",
        "  mada_vsl = gdp_ppp * 20\n",
        "print(\"================================================================\")\n",
        "print(f\"The estimated VSL for Madagascar is: ${mada_vsl:,.2f}\")\n",
        "print(\"================================================================\")\n",
        "# Estimate VSL per year Madagascar\n",
        "vsl_year_mada = mada_vsl/np.sum([(1+discount_rate) ** -t for t in range(rem_life)])\n",
        "print(f\"Annualized VSL Madagascar: ${vsl_year_mada:,.2f}\")\n",
        "print(\"================================================================\")\n",
        "print(\"Note the values from the NPV approach are $6K greater than VSL.\")\n",
        "print(\"We will use the more conservative VSL figures.\")"
      ],
      "metadata": {
        "colab": {
          "base_uri": "https://localhost:8080/"
        },
        "id": "l4sLm4L36gtU",
        "outputId": "251d3a10-080b-4f1c-a094-162de23fb09d"
      },
      "execution_count": null,
      "outputs": [
        {
          "output_type": "stream",
          "name": "stdout",
          "text": [
            "================================================================\n",
            "The estimated VSL for Madagascar is: $34,563.10\n",
            "================================================================\n",
            "Annualized VSL Madagascar: $1,328.09\n",
            "================================================================\n",
            "Note the values from the NPV approach are $6K greater than VSL.\n",
            "We will use the more conservative VSL figures.\n"
          ]
        }
      ]
    },
    {
      "cell_type": "markdown",
      "source": [
        "Note:\n",
        "Impact of the program can be estimated by multiplying DALYs by VSL per year"
      ],
      "metadata": {
        "id": "bZ5IhSa0u3pw"
      }
    },
    {
      "cell_type": "markdown",
      "source": [
        "## Estimate patient level time costs with and without program\n",
        "- Estimate number of sick days averted\n",
        "- This is from progression to severe disease as well as days sick untreated\n",
        "- Adjust each year VSL by economic growth rate (values from IMF)\n"
      ],
      "metadata": {
        "id": "t_m8CSXJvyug"
      }
    },
    {
      "cell_type": "code",
      "source": [],
      "metadata": {
        "id": "HKsj3gzBCXoa"
      },
      "execution_count": null,
      "outputs": []
    },
    {
      "cell_type": "markdown",
      "source": [
        "## National level estimates from World Malaria Report 2022\n",
        "\n",
        "| Indicator | Mean | Lower| Upper |\n",
        "|:----------|------|-------|------:|\n",
        "|Cases | 3559518| 2269000| 4940000|\n",
        "|Deaths| 9111| 3510 |17000 |\n",
        "|Progression | .02 |.01 |.03|\n",
        "\n",
        "- Progression refers to uncomplicated cases that become severe.\n",
        "- The CHV expansion reduces this progression\n",
        "\n",
        "**Other assumptions**\n",
        "\n",
        "IRR values. Zambia study.\n",
        "\n",
        "|Indicator | Mean | Range | Source |\n",
        "|:---------|------|-------|-------:|\n",
        "|*Admission reduction | .81| [.75, .87], p.002|[Ashton](https://pubmed.ncbi.nlm.nih.gov/36927440/)|\n",
        "|*Deaths reduction | .77| [.66, .91], p<.001|[Ashton](https://pubmed.ncbi.nlm.nih.gov/36927440/)|\n",
        "|Admission reduction | .84| [.78, .90], p<.001 |[Ashton](https://pubmed.ncbi.nlm.nih.gov/36927440/)|\n",
        "|Deaths reduction | .78| [.68, .89], p<.001|[Ashton](https://pubmed.ncbi.nlm.nih.gov/36927440/)|\n",
        "\n",
        "Starred (*) refer to under-5"
      ],
      "metadata": {
        "id": "i0nwPoCJzFEf"
      }
    },
    {
      "cell_type": "code",
      "source": [
        "# To verify numbers with Andres\n",
        "# Will use these proportions to adjust the Madagascar values\n",
        "malaria_cases_mean = 3_559_518\n",
        "malaria_cases_lower = 2_269_000\n",
        "malaria_cases_upper = 4_940_000\n",
        "uncomplicated_severe_lower = .01 # World Malaria report\n",
        "uncomplicated_severe_mean = .02 # Uncomplicated cases that become severe\n",
        "uncomplicated_severe_upper = .03\n",
        "severe_hospitalized = .65 # 50-80% of severe cases\n",
        "reduction_admission_chv = .16 # IRR .84[.78-.90, p<.001] https://pubmed.ncbi.nlm.nih.gov/36927440/\n",
        "reduction_mortality_chv = .22 # IRR .78[.68-.89, p<.001] https://pubmed.ncbi.nlm.nih.gov/36927440/\n",
        "malaria_deaths_mean = 9_111\n",
        "malaria_deaths_lower = 3_510\n",
        "malaria_deaths_upper = 17_000\n",
        "# Source -- World Malaria Report 2023\n",
        "deaths_averted_chv = .19  # Under 5 data https://pubmed.ncbi.nlm.nih.gov/36927440/"
      ],
      "metadata": {
        "id": "an6X-iK1zCoY"
      },
      "execution_count": null,
      "outputs": []
    },
    {
      "cell_type": "code",
      "source": [
        "lower_range_mal = malaria_cases_lower/malaria_cases_mean\n",
        "upper_range_mal = malaria_cases_upper/malaria_cases_mean\n",
        "lower_range_death = malaria_deaths_lower/malaria_deaths_mean\n",
        "upper_range_death = malaria_deaths_upper/malaria_deaths_mean"
      ],
      "metadata": {
        "id": "JbtltTx-RCKP"
      },
      "execution_count": null,
      "outputs": []
    },
    {
      "cell_type": "code",
      "source": [
        ".02*3559518"
      ],
      "metadata": {
        "colab": {
          "base_uri": "https://localhost:8080/"
        },
        "id": "6WkDp40HRYVz",
        "outputId": "b3d683f7-db07-4d73-8ad9-a31a6acd8eca"
      },
      "execution_count": null,
      "outputs": [
        {
          "output_type": "execute_result",
          "data": {
            "text/plain": [
              "71190.36"
            ]
          },
          "metadata": {},
          "execution_count": 1
        }
      ]
    },
    {
      "cell_type": "code",
      "source": [
        "# Define test characteristics\n",
        "sensitivity_mt = 0.99\n",
        "specificity_mt = 0.95\n",
        "sensitivity_st = 0.90\n",
        "specificity_st = 0.95\n",
        "\n",
        "# Define disease and treatment parameters\n",
        "disease_prevalence = 0.01\n",
        "treatment_success_rate = 0.8\n",
        "\n",
        "# Calculate probabilities for each outcome\n",
        "# True positive (TP)\n",
        "tp_mt = disease_prevalence * sensitivity_mt\n",
        "tp_st = disease_prevalence * sensitivity_st\n",
        "\n",
        "# False positive (FP)\n",
        "fp_mt = (1 - disease_prevalence) * (1 - specificity_mt)\n",
        "fp_st = (1 - disease_prevalence) * (1 - specificity_st)\n",
        "\n",
        "# True negative (TN)\n",
        "tn_mt = (1 - disease_prevalence) * specificity_mt\n",
        "tn_st = (1 - disease_prevalence) * specificity_st\n",
        "\n",
        "# False negative (FN)\n",
        "fn_mt = disease_prevalence * (1 - sensitivity_mt)\n",
        "fn_st = disease_prevalence * (1 - sensitivity_st)\n",
        "\n",
        "# Define costs\n",
        "cost_mt = 100  # Cost per multiplex test\n",
        "cost_st = 50  # Cost per single test\n",
        "treatment_cost = 1000  # Cost of treatment\n",
        "\n",
        "# Calculate expected costs per test\n",
        "expected_cost_mt = (tp_mt + fp_mt) * cost_mt + (fn_mt + tn_mt) * treatment_cost\n",
        "expected_cost_st = (tp_st + fp_st) * cost_st + (fn_st + tn_st) * treatment_cost\n",
        "\n",
        "# Calculate expected positive years of life saved (PYLS)\n",
        "pyls_mt = tp_mt * treatment_success_rate\n",
        "pyls_st = tp_st * treatment_success_rate\n",
        "\n",
        "# Calculate incremental cost-effectiveness ratio (ICER)\n",
        "icer = (expected_cost_mt - expected_cost_st) / (pyls_mt - pyls_st)\n",
        "\n",
        "# Print results\n",
        "print(\"Expected cost per test (MT):\", expected_cost_mt)\n",
        "print(\"Expected cost per test (ST):\", expected_cost_st)\n",
        "print(\"Expected PYLS per test (MT):\", pyls_mt)\n",
        "print(\"Expected PYLS per test (ST):\", pyls_st)\n",
        "print(\"ICER:\", icer)"
      ],
      "metadata": {
        "id": "R0yEnONsR1ai"
      },
      "execution_count": null,
      "outputs": []
    },
    {
      "cell_type": "code",
      "source": [
        "decay_rate = 0.01\n",
        "time = np.linspace(0,50,120)\n",
        "initial_value = 1.0\n",
        "\n",
        "\n",
        "quadratic_1_decay_function = initial_value * np.exp(-decay_rate * time**1.5)\n",
        "quadratic_2_decay_function = initial_value * np.exp(-decay_rate * time**2.0)\n",
        "quadratic_3_decay_function = initial_value * np.exp(-decay_rate * time**2.5)\n",
        "#sigmoid_decay_function = initial_value/ (1 + np.exp(decay_rate * (time - 25)))\n",
        "fig, ax = plt.subplots(figsize=(10,6))\n",
        "plt.plot(time, quadratic_1_decay_function, label=\"Scenario 1\")\n",
        "plt.plot(time, quadratic_2_decay_function, label=\"Scenario 2\")\n",
        "plt.plot(time, quadratic_3_decay_function, label=\"Scenario 3\")\n",
        "plt.legend(loc=\"best\")\n",
        "plt.text(30, 0.5, \"Madagascar Demo\", color=\"gray\", alpha=.3, fontsize=20)\n",
        "plt.ylabel(\"Probability cost-effective\")\n",
        "plt.xlabel(\"Monthly remuneration\")\n",
        "plt.title(\"CHV Compensation Analysis Simulated\")\n",
        "ax.set_xticklabels([\"$0\", \"$10\", \"$20\", \"$30\", \"$40\", \"$50\"])\n",
        "plt.grid(axis=\"both\", alpha=.4)"
      ],
      "metadata": {
        "colab": {
          "base_uri": "https://localhost:8080/",
          "height": 599
        },
        "id": "-_4qrjeNHTQh",
        "outputId": "7624626c-9ed1-421d-ac67-1f45df711b36"
      },
      "execution_count": null,
      "outputs": [
        {
          "output_type": "stream",
          "name": "stderr",
          "text": [
            "<ipython-input-3-20ac06fd28ea>:19: UserWarning: FixedFormatter should only be used together with FixedLocator\n",
            "  ax.set_xticklabels([\"$0\", \"$10\", \"$20\", \"$30\", \"$40\", \"$50\"])\n"
          ]
        },
        {
          "output_type": "display_data",
          "data": {
            "text/plain": [
              "<Figure size 1000x600 with 1 Axes>"
            ],
            "image/png": "[encoded data removed]"
          },
          "metadata": {}
        }
      ]
    },
    {
      "cell_type": "code",
      "source": [
        "# Breakeven point estimates\n",
        "def calculate_gini(sigma):\n",
        "    \"\"\"\n",
        "    Calculate the Gini coefficient from the standard deviation (σ).\n",
        "\n",
        "    Parameters:\n",
        "        sigma (float): The standard deviation (σ) of the log-normal distribution.\n",
        "\n",
        "    Returns:\n",
        "        float: The Gini coefficient of the distribution.\n",
        "    \"\"\"\n",
        "    return 2 * stats.norm.cdf(sigma / np.sqrt(2)) - 1\n",
        "\n",
        "def calculate_mu_sigma(average_income, gini_coefficient):\n",
        "    \"\"\"\n",
        "    Calculate μ and σ of the log-normal distribution from average income (E(Y)) and Gini coefficient (G).\n",
        "\n",
        "    Parameters:\n",
        "        average_income (float): The average income (E(Y)) of the log-normal distribution.\n",
        "        gini_coefficient (float): The Gini coefficient (G) of the distribution.\n",
        "\n",
        "    Returns:\n",
        "        tuple: A tuple containing μ and σ.\n",
        "    \"\"\"\n",
        "    sigma = np.sqrt(2 * stats.norm.ppf((gini_coefficient + 1) / 2))\n",
        "    mu = np.log(average_income) - (sigma ** 2) / 2\n",
        "    return mu, sigma\n",
        "\n",
        "def calculate_household_income(mu, sigma, p):\n",
        "    \"\"\"\n",
        "    Calculate household income at a given quantile (p) using the log-normal distribution.\n",
        "\n",
        "    Parameters:\n",
        "        mu (float): The parameter μ of the log-normal distribution.\n",
        "        sigma (float): The parameter σ of the log-normal distribution.\n",
        "        p (float): The quantile value.\n",
        "\n",
        "    Returns:\n",
        "        float: Household income at the specified quantile.\n",
        "    \"\"\"\n",
        "    u_p = stats.norm.ppf(p)\n",
        "    return np.exp(mu + u_p * sigma)\n",
        "\n",
        "# Example usage for a Pandas DataFrame\n",
        "data = {\n",
        "    'average_income': [50000, 60000, 55000],  # Replace with your actual average incomes\n",
        "    'gini_coefficient': [0.3, 0.25, 0.35],  # Replace with your actual Gini coefficients\n",
        "    'p_quantile': [0.7, 0.8, 0.6]  # Replace with your desired quantiles\n",
        "}\n",
        "\n",
        "df = pd.DataFrame(data)\n",
        "\n",
        "# Calculate μ and σ for each row in the DataFrame\n",
        "df['mu'], df['sigma'] = zip(*df.apply(lambda row: calculate_mu_sigma(row['average_income'], row['gini_coefficient']), axis=1))\n",
        "\n",
        "# Calculate household income at the specified quantile for each row\n",
        "df['household_income'] = df.apply(lambda row: calculate_household_income(row['mu'], row['sigma'], row['p_quantile']), axis=1)\n",
        "\n",
        "# Display the resulting DataFrame\n",
        "print(df)"
      ],
      "metadata": {
        "colab": {
          "base_uri": "https://localhost:8080/"
        },
        "id": "GKoIaAxgHZyF",
        "outputId": "4edbf673-8908-4f3c-a921-3bf0b9957edc"
      },
      "execution_count": null,
      "outputs": [
        {
          "output_type": "stream",
          "name": "stdout",
          "text": [
            "   average_income  gini_coefficient  p_quantile         mu     sigma  \\\n",
            "0           50000              0.30         0.7  10.434458  0.877862   \n",
            "1           60000              0.25         0.8  10.683460  0.798297   \n",
            "2           55000              0.35         0.6  10.461326  0.952641   \n",
            "\n",
            "   household_income  \n",
            "0      53895.856194  \n",
            "1      85419.057791  \n",
            "2      44474.667926  \n"
          ]
        }
      ]
    },
    {
      "cell_type": "code",
      "source": [
        "def sigmoid(x, L, x0, k):\n",
        "    return L / (1 + np.exp(-k * (x - x0)))\n",
        "\n",
        "x = np.linspace(-10, 10, 200)\n",
        "L = 10\n",
        "x0 = 0\n",
        "k = 1\n",
        "data_list = []\n",
        "plt.figure(figsize=(10, 6))\n",
        "\n",
        "for i in range(5):\n",
        "  L = L + i\n",
        "  y = sigmoid(x, L, x0, k)\n",
        "  #plt.plot(x, y, label=f'L={L}')\n",
        "  data_list.append({\"x\": x, \"y\": y, \"L\":L})\n",
        "df = pd.DataFrame(data_list)\n",
        "l1 = list(df[\"y\"][0])\n",
        "l2 = list(df[\"y\"][1])\n",
        "l3 = list(df[\"y\"][2])\n",
        "l4 = list(df[\"y\"][3])\n",
        "l5 = list(df[\"y\"][4])\n",
        "x = np.linspace(0, 20,200)"
      ],
      "metadata": {
        "colab": {
          "base_uri": "https://localhost:8080/",
          "height": 34
        },
        "id": "yScO11MgIAgt",
        "outputId": "f04ff4a2-9694-4364-b25b-8d3445205b41"
      },
      "execution_count": null,
      "outputs": [
        {
          "output_type": "display_data",
          "data": {
            "text/plain": [
              "<Figure size 1000x600 with 0 Axes>"
            ]
          },
          "metadata": {}
        }
      ]
    },
    {
      "cell_type": "code",
      "source": [
        "fig, ax = plt.subplots(figsize=(10,6))\n",
        "plt.plot(x, l1, label=\"Sim 1\")\n",
        "plt.plot(x, l2, label=\"Sim 2\")\n",
        "plt.plot(x, l3, label=\"Sim 3\")\n",
        "plt.plot(x, l4, label=\"Sim 4\")\n",
        "plt.plot(x, l5, label=\"Sim 5\")\n",
        "plt.grid(axis=\"both\", lw=.2)\n",
        "plt.title(\"CHV breakeven map Madagascar\")\n",
        "plt.ylabel(\"Cumulated net health benefit\")\n",
        "plt.xlabel(\"Time in months\")\n",
        "plt.yticks(np.linspace(0,20,5), labels=[-10, -5, 0, 5, 10])\n",
        "plt.axhline(10, c=\"r\", ls=\"--\")\n",
        "plt.text(2.5, 12.5, \"Madagascar Demo\", color=\"gray\", alpha=.3, fontsize=20)\n",
        "plt.legend()\n",
        "#plt.savefig(\"/Users/wobiero/Desktop/mada_chv.png\", bbox_inches=\"tight\")"
      ],
      "metadata": {
        "colab": {
          "base_uri": "https://localhost:8080/",
          "height": 581
        },
        "id": "v2NDF0ekIGrR",
        "outputId": "d9581afb-8737-4ad3-b540-b3a7e5b5c578"
      },
      "execution_count": null,
      "outputs": [
        {
          "output_type": "execute_result",
          "data": {
            "text/plain": [
              "<matplotlib.legend.Legend at 0x7b0c1caca770>"
            ]
          },
          "metadata": {},
          "execution_count": 13
        },
        {
          "output_type": "display_data",
          "data": {
            "text/plain": [
              "<Figure size 1000x600 with 1 Axes>"
            ],
            "image/png": "[encoded data removed]"
          },
          "metadata": {}
        }
      ]
    },
    {
      "cell_type": "code",
      "source": [
        "pwd"
      ],
      "metadata": {
        "colab": {
          "base_uri": "https://localhost:8080/",
          "height": 35
        },
        "id": "YWgEFfnlIc60",
        "outputId": "32c62b13-68f8-41ff-b804-4fddc4c8932a"
      },
      "execution_count": null,
      "outputs": [
        {
          "output_type": "execute_result",
          "data": {
            "text/plain": [
              "'/content'"
            ],
            "application/vnd.google.colaboratory.intrinsic+json": {
              "type": "string"
            }
          },
          "metadata": {},
          "execution_count": 14
        }
      ]
    },
    {
      "cell_type": "code",
      "source": [
        "from google.colab import drive\n",
        "drive.mount('/content/gdrive')"
      ],
      "metadata": {
        "colab": {
          "base_uri": "https://localhost:8080/"
        },
        "id": "P56FX3VfJJXv",
        "outputId": "3d707c5e-6f8f-46a0-93c2-5c1968b647a1"
      },
      "execution_count": null,
      "outputs": [
        {
          "output_type": "stream",
          "name": "stdout",
          "text": [
            "Drive already mounted at /content/gdrive; to attempt to forcibly remount, call drive.mount(\"/content/gdrive\", force_remount=True).\n"
          ]
        }
      ]
    },
    {
      "cell_type": "code",
      "source": [
        "cd \"/content/gdrive/MyDrive/Colab Notebooks\""
      ],
      "metadata": {
        "colab": {
          "base_uri": "https://localhost:8080/"
        },
        "id": "fDWZ1pTkKewu",
        "outputId": "f0172ce2-25b7-4317-cb39-f4cc78b98e32"
      },
      "execution_count": null,
      "outputs": [
        {
          "output_type": "stream",
          "name": "stdout",
          "text": [
            "/content/gdrive/MyDrive/Colab Notebooks\n"
          ]
        }
      ]
    },
    {
      "cell_type": "code",
      "source": [
        "!jupyter nbconvert --to html \"mada_mccm.ipynb\""
      ],
      "metadata": {
        "colab": {
          "base_uri": "https://localhost:8080/"
        },
        "id": "wBf1HCA1Jdoz",
        "outputId": "53d58c35-f6a8-4dd9-9ec3-3b103e581180"
      },
      "execution_count": null,
      "outputs": [
        {
          "output_type": "stream",
          "name": "stdout",
          "text": [
            "[NbConvertApp] Converting notebook mada_mccm.ipynb to html\n",
            "[NbConvertApp] Writing 900570 bytes to mada_mccm.html\n"
          ]
        }
      ]
    },
    {
      "cell_type": "code",
      "source": [],
      "metadata": {
        "id": "OaR351Z2JpSu"
      },
      "execution_count": null,
      "outputs": []
    }
  ]
}